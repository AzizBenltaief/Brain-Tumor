{
 "cells": [
  {
   "cell_type": "code",
   "id": "initial_id",
   "metadata": {
    "collapsed": true,
    "ExecuteTime": {
     "end_time": "2025-08-01T21:03:46.584394Z",
     "start_time": "2025-08-01T21:03:46.555367Z"
    }
   },
   "source": [
    "import torch\n",
    "from torch import nn, optim\n",
    "from torchvision import datasets, transforms\n",
    "from torch.utils.data import DataLoader\n",
    "\n",
    "device = torch.device('cuda' if torch.cuda.is_available() else 'cpu')\n",
    "\n",
    "tf = transforms.Compose([\n",
    "    transforms.Resize((128,128)),\n",
    "    transforms.ToTensor(),\n",
    "    transforms.Normalize([0.5,0.5,0.5],[0.5,0.5,0.5])\n",
    "])\n",
    "\n",
    "train_dl = DataLoader(\n",
    "    datasets.ImageFolder('./Training',tf),\n",
    "    batch_size=32, shuffle=True,num_workers=4,pin_memory=True\n",
    ")\n",
    "\n",
    "test_dl = DataLoader(\n",
    "    datasets.ImageFolder('./Testing',tf),\n",
    "    batch_size=32, shuffle=False,num_workers=4,pin_memory=True\n",
    ")"
   ],
   "outputs": [],
   "execution_count": 6
  },
  {
   "metadata": {
    "ExecuteTime": {
     "end_time": "2025-08-01T21:03:49.434297Z",
     "start_time": "2025-08-01T21:03:49.392974Z"
    }
   },
   "cell_type": "code",
   "source": [
    "model = nn.Sequential(\n",
    "    nn.Conv2d(3,32,3,1,1),nn.ReLU(),nn.MaxPool2d(2),\n",
    "    nn.Conv2d(32,64,3,1,1),nn.ReLU(),nn.MaxPool2d(2),\n",
    "    nn.Conv2d(64,128,3,1,1),nn.ReLU(),nn.MaxPool2d(2),\n",
    "    nn.Flatten(),\n",
    "    nn.Linear(128*16*16,256),nn.ReLU(),nn.Dropout(0.5),\n",
    "    nn.Linear(256,4) #4 classes\n",
    ").to(device)\n"
   ],
   "id": "728a9cc3802482ec",
   "outputs": [],
   "execution_count": 7
  },
  {
   "metadata": {
    "ExecuteTime": {
     "end_time": "2025-08-01T21:03:53.654844Z",
     "start_time": "2025-08-01T21:03:53.650847Z"
    }
   },
   "cell_type": "code",
   "source": [
    "opt = optim.Adam(model.parameters(),1e-4)\n",
    "loss_fn = nn.CrossEntropyLoss()"
   ],
   "id": "e28851f820f9953",
   "outputs": [],
   "execution_count": 8
  },
  {
   "metadata": {
    "jupyter": {
     "is_executing": true
    },
    "ExecuteTime": {
     "start_time": "2025-08-01T21:04:29.626075Z"
    }
   },
   "cell_type": "code",
   "source": [
    "model.train()\n",
    "for epoch in range(25):\n",
    "    running_loss = 0\n",
    "\n",
    "    for x,y in train_dl:\n",
    "        opt.zero_grad()\n",
    "\n",
    "        loss = loss_fn(model(x.to(device)), y.to(device))\n",
    "        running_loss += loss\n",
    "        opt.step()\n",
    "\n",
    "    print(f'Epoch {epoch+1} : Loss was {running_loss}')\n"
   ],
   "id": "8844ca46c686e4b5",
   "outputs": [
    {
     "name": "stderr",
     "output_type": "stream",
     "text": [
      "C:\\Users\\insec\\PycharmProjects\\BrainTumor\\.venv\\Lib\\site-packages\\torch\\utils\\data\\dataloader.py:665: UserWarning: 'pin_memory' argument is set as true but no accelerator is found, then device pinned memory won't be used.\n",
      "  warnings.warn(warn_msg)\n"
     ]
    }
   ],
   "execution_count": null
  },
  {
   "metadata": {},
   "cell_type": "code",
   "outputs": [],
   "execution_count": null,
   "source": [
    "model.eval()\n",
    "test_loss,correct = 0.0\n",
    "\n",
    "with torch.no_grad():\n",
    "    for x,y in test_dl:\n",
    "        x,y = x.to(device),y.to(device)\n",
    "\n",
    "        logits = model(x)\n",
    "        test_loss += loss_fn(logits,y).item()*y.size(0)\n",
    "\n",
    "        preds = logits.argmax(dim=1)\n",
    "        correct += (preds == y).sum().item()\n",
    "\n",
    "test_loss /= len(test_dl.dataset)\n",
    "accuracy = 100.0 * correct / len(test_dl.dataset)"
   ],
   "id": "8d23e8b499b1c512"
  },
  {
   "metadata": {},
   "cell_type": "code",
   "outputs": [],
   "execution_count": null,
   "source": "",
   "id": "9535e5cc6e207efc"
  }
 ],
 "metadata": {
  "kernelspec": {
   "display_name": "Python 3",
   "language": "python",
   "name": "python3"
  },
  "language_info": {
   "codemirror_mode": {
    "name": "ipython",
    "version": 2
   },
   "file_extension": ".py",
   "mimetype": "text/x-python",
   "name": "python",
   "nbconvert_exporter": "python",
   "pygments_lexer": "ipython2",
   "version": "2.7.6"
  }
 },
 "nbformat": 4,
 "nbformat_minor": 5
}
